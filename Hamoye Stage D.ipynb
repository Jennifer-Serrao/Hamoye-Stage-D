{
 "cells": [
  {
   "cell_type": "code",
   "execution_count": 69,
   "metadata": {},
   "outputs": [],
   "source": [
    "#Loading the datasets\n",
    "import numpy as np\n",
    "import matplotlib.pyplot as plt\n",
    "import tensorflow as tf\n",
    "from tensorflow import keras\n",
    "import pandas as pd"
   ]
  },
  {
   "cell_type": "code",
   "execution_count": 70,
   "metadata": {
    "_cell_guid": "79c7e3d0-c299-4dcb-8224-4455121ee9b0",
    "_uuid": "d629ff2d2480ee46fbb7e2d37f6b5fab8052498a"
   },
   "outputs": [
    {
     "data": {
      "text/html": [
       "<div>\n",
       "<style scoped>\n",
       "    .dataframe tbody tr th:only-of-type {\n",
       "        vertical-align: middle;\n",
       "    }\n",
       "\n",
       "    .dataframe tbody tr th {\n",
       "        vertical-align: top;\n",
       "    }\n",
       "\n",
       "    .dataframe thead th {\n",
       "        text-align: right;\n",
       "    }\n",
       "</style>\n",
       "<table border=\"1\" class=\"dataframe\">\n",
       "  <thead>\n",
       "    <tr style=\"text-align: right;\">\n",
       "      <th></th>\n",
       "      <th>image_name</th>\n",
       "      <th>tags</th>\n",
       "    </tr>\n",
       "  </thead>\n",
       "  <tbody>\n",
       "    <tr>\n",
       "      <th>0</th>\n",
       "      <td>test_0</td>\n",
       "      <td>primary clear agriculture road water</td>\n",
       "    </tr>\n",
       "    <tr>\n",
       "      <th>1</th>\n",
       "      <td>test_1</td>\n",
       "      <td>primary clear agriculture road water</td>\n",
       "    </tr>\n",
       "  </tbody>\n",
       "</table>\n",
       "</div>"
      ],
      "text/plain": [
       "  image_name                                  tags\n",
       "0     test_0  primary clear agriculture road water\n",
       "1     test_1  primary clear agriculture road water"
      ]
     },
     "execution_count": 70,
     "metadata": {},
     "output_type": "execute_result"
    }
   ],
   "source": [
    "#Reading the CSV file\n",
    "sample_submission = pd.read_csv('../input/planets-dataset/planet/planet/sample_submission.csv')\n",
    "sample_submission.head(2)"
   ]
  },
  {
   "cell_type": "code",
   "execution_count": 71,
   "metadata": {},
   "outputs": [
    {
     "data": {
      "text/html": [
       "<div>\n",
       "<style scoped>\n",
       "    .dataframe tbody tr th:only-of-type {\n",
       "        vertical-align: middle;\n",
       "    }\n",
       "\n",
       "    .dataframe tbody tr th {\n",
       "        vertical-align: top;\n",
       "    }\n",
       "\n",
       "    .dataframe thead th {\n",
       "        text-align: right;\n",
       "    }\n",
       "</style>\n",
       "<table border=\"1\" class=\"dataframe\">\n",
       "  <thead>\n",
       "    <tr style=\"text-align: right;\">\n",
       "      <th></th>\n",
       "      <th>image_name</th>\n",
       "      <th>tags</th>\n",
       "    </tr>\n",
       "  </thead>\n",
       "  <tbody>\n",
       "    <tr>\n",
       "      <th>0</th>\n",
       "      <td>train_0</td>\n",
       "      <td>haze primary</td>\n",
       "    </tr>\n",
       "    <tr>\n",
       "      <th>1</th>\n",
       "      <td>train_1</td>\n",
       "      <td>agriculture clear primary water</td>\n",
       "    </tr>\n",
       "    <tr>\n",
       "      <th>2</th>\n",
       "      <td>train_2</td>\n",
       "      <td>clear primary</td>\n",
       "    </tr>\n",
       "    <tr>\n",
       "      <th>3</th>\n",
       "      <td>train_3</td>\n",
       "      <td>clear primary</td>\n",
       "    </tr>\n",
       "    <tr>\n",
       "      <th>4</th>\n",
       "      <td>train_4</td>\n",
       "      <td>agriculture clear habitation primary road</td>\n",
       "    </tr>\n",
       "  </tbody>\n",
       "</table>\n",
       "</div>"
      ],
      "text/plain": [
       "  image_name                                       tags\n",
       "0    train_0                               haze primary\n",
       "1    train_1            agriculture clear primary water\n",
       "2    train_2                              clear primary\n",
       "3    train_3                              clear primary\n",
       "4    train_4  agriculture clear habitation primary road"
      ]
     },
     "execution_count": 71,
     "metadata": {},
     "output_type": "execute_result"
    }
   ],
   "source": [
    "#Training the dataset\n",
    "train_file = pd.read_csv('../input/planets-dataset/planet/planet/train_classes.csv', dtype = str)\n",
    "train_file.head()"
   ]
  },
  {
   "cell_type": "code",
   "execution_count": 72,
   "metadata": {},
   "outputs": [],
   "source": [
    "#sample image\n",
    "from skimage import io\n",
    "%matplotlib inline"
   ]
  },
  {
   "cell_type": "code",
   "execution_count": 73,
   "metadata": {},
   "outputs": [
    {
     "data": {
      "text/plain": [
       "(256, 256, 3)"
      ]
     },
     "execution_count": 73,
     "metadata": {},
     "output_type": "execute_result"
    }
   ],
   "source": [
    "sample_image = io.imread('../input/planets-dataset/planet/planet/train-jpg/train_20.jpg')\n",
    "sample_image.shape"
   ]
  },
  {
   "cell_type": "code",
   "execution_count": 74,
   "metadata": {},
   "outputs": [
    {
     "data": {
      "text/plain": [
       "<matplotlib.image.AxesImage at 0x7f58a775fc10>"
      ]
     },
     "execution_count": 74,
     "metadata": {},
     "output_type": "execute_result"
    },
    {
     "data": {
      "image/png": "[encoded data removed]",
      "text/plain": [
       "<Figure size 432x288 with 1 Axes>"
      ]
     },
     "metadata": {
      "needs_background": "light"
     },
     "output_type": "display_data"
    }
   ],
   "source": [
    "plt.imshow(sample_image)"
   ]
  },
  {
   "cell_type": "code",
   "execution_count": 75,
   "metadata": {},
   "outputs": [
    {
     "data": {
      "text/html": [
       "<div>\n",
       "<style scoped>\n",
       "    .dataframe tbody tr th:only-of-type {\n",
       "        vertical-align: middle;\n",
       "    }\n",
       "\n",
       "    .dataframe tbody tr th {\n",
       "        vertical-align: top;\n",
       "    }\n",
       "\n",
       "    .dataframe thead th {\n",
       "        text-align: right;\n",
       "    }\n",
       "</style>\n",
       "<table border=\"1\" class=\"dataframe\">\n",
       "  <thead>\n",
       "    <tr style=\"text-align: right;\">\n",
       "      <th></th>\n",
       "      <th>image_name</th>\n",
       "      <th>tags</th>\n",
       "    </tr>\n",
       "  </thead>\n",
       "  <tbody>\n",
       "    <tr>\n",
       "      <th>20</th>\n",
       "      <td>train_20</td>\n",
       "      <td>agriculture clear primary water</td>\n",
       "    </tr>\n",
       "  </tbody>\n",
       "</table>\n",
       "</div>"
      ],
      "text/plain": [
       "   image_name                             tags\n",
       "20   train_20  agriculture clear primary water"
      ]
     },
     "execution_count": 75,
     "metadata": {},
     "output_type": "execute_result"
    }
   ],
   "source": [
    "train_file[train_file['image_name'] == 'train_20']"
   ]
  },
  {
   "cell_type": "code",
   "execution_count": 76,
   "metadata": {},
   "outputs": [
    {
     "name": "stdout",
     "output_type": "stream",
     "text": [
      "['artisinal_mine', 'selective_logging', 'agriculture', 'road', 'blooming', 'slash_burn', 'habitation', 'cultivation', 'partly_cloudy', 'conventional_mine', 'haze', 'clear', 'cloudy', 'bare_ground', 'blow_down', 'water', 'primary']\n"
     ]
    }
   ],
   "source": [
    "unique_labels = set()\n",
    "def append_labels(tags):\n",
    "    for tag in tags.split():\n",
    "        unique_labels.add(tag)\n",
    "        \n",
    "train_df = train_file.copy()\n",
    "train_df['tags'].apply(append_labels)\n",
    "unique_labels = list(unique_labels)\n",
    "print(unique_labels)"
   ]
  },
  {
   "cell_type": "code",
   "execution_count": 77,
   "metadata": {},
   "outputs": [],
   "source": [
    "assert len(train_df['image_name'].unique()) == train_df.shape[0]"
   ]
  },
  {
   "cell_type": "code",
   "execution_count": 78,
   "metadata": {},
   "outputs": [
    {
     "data": {
      "text/html": [
       "<div>\n",
       "<style scoped>\n",
       "    .dataframe tbody tr th:only-of-type {\n",
       "        vertical-align: middle;\n",
       "    }\n",
       "\n",
       "    .dataframe tbody tr th {\n",
       "        vertical-align: top;\n",
       "    }\n",
       "\n",
       "    .dataframe thead th {\n",
       "        text-align: right;\n",
       "    }\n",
       "</style>\n",
       "<table border=\"1\" class=\"dataframe\">\n",
       "  <thead>\n",
       "    <tr style=\"text-align: right;\">\n",
       "      <th></th>\n",
       "      <th>image_name</th>\n",
       "      <th>tags</th>\n",
       "      <th>artisinal_mine</th>\n",
       "      <th>selective_logging</th>\n",
       "      <th>agriculture</th>\n",
       "      <th>road</th>\n",
       "      <th>blooming</th>\n",
       "      <th>slash_burn</th>\n",
       "      <th>habitation</th>\n",
       "      <th>cultivation</th>\n",
       "      <th>partly_cloudy</th>\n",
       "      <th>conventional_mine</th>\n",
       "      <th>haze</th>\n",
       "      <th>clear</th>\n",
       "      <th>cloudy</th>\n",
       "      <th>bare_ground</th>\n",
       "      <th>blow_down</th>\n",
       "      <th>water</th>\n",
       "      <th>primary</th>\n",
       "    </tr>\n",
       "  </thead>\n",
       "  <tbody>\n",
       "    <tr>\n",
       "      <th>0</th>\n",
       "      <td>train_0</td>\n",
       "      <td>haze primary</td>\n",
       "      <td>0</td>\n",
       "      <td>0</td>\n",
       "      <td>0</td>\n",
       "      <td>0</td>\n",
       "      <td>0</td>\n",
       "      <td>0</td>\n",
       "      <td>0</td>\n",
       "      <td>0</td>\n",
       "      <td>0</td>\n",
       "      <td>0</td>\n",
       "      <td>1</td>\n",
       "      <td>0</td>\n",
       "      <td>0</td>\n",
       "      <td>0</td>\n",
       "      <td>0</td>\n",
       "      <td>0</td>\n",
       "      <td>1</td>\n",
       "    </tr>\n",
       "    <tr>\n",
       "      <th>1</th>\n",
       "      <td>train_1</td>\n",
       "      <td>agriculture clear primary water</td>\n",
       "      <td>0</td>\n",
       "      <td>0</td>\n",
       "      <td>1</td>\n",
       "      <td>0</td>\n",
       "      <td>0</td>\n",
       "      <td>0</td>\n",
       "      <td>0</td>\n",
       "      <td>0</td>\n",
       "      <td>0</td>\n",
       "      <td>0</td>\n",
       "      <td>0</td>\n",
       "      <td>1</td>\n",
       "      <td>0</td>\n",
       "      <td>0</td>\n",
       "      <td>0</td>\n",
       "      <td>1</td>\n",
       "      <td>1</td>\n",
       "    </tr>\n",
       "    <tr>\n",
       "      <th>2</th>\n",
       "      <td>train_2</td>\n",
       "      <td>clear primary</td>\n",
       "      <td>0</td>\n",
       "      <td>0</td>\n",
       "      <td>0</td>\n",
       "      <td>0</td>\n",
       "      <td>0</td>\n",
       "      <td>0</td>\n",
       "      <td>0</td>\n",
       "      <td>0</td>\n",
       "      <td>0</td>\n",
       "      <td>0</td>\n",
       "      <td>0</td>\n",
       "      <td>1</td>\n",
       "      <td>0</td>\n",
       "      <td>0</td>\n",
       "      <td>0</td>\n",
       "      <td>0</td>\n",
       "      <td>1</td>\n",
       "    </tr>\n",
       "    <tr>\n",
       "      <th>3</th>\n",
       "      <td>train_3</td>\n",
       "      <td>clear primary</td>\n",
       "      <td>0</td>\n",
       "      <td>0</td>\n",
       "      <td>0</td>\n",
       "      <td>0</td>\n",
       "      <td>0</td>\n",
       "      <td>0</td>\n",
       "      <td>0</td>\n",
       "      <td>0</td>\n",
       "      <td>0</td>\n",
       "      <td>0</td>\n",
       "      <td>0</td>\n",
       "      <td>1</td>\n",
       "      <td>0</td>\n",
       "      <td>0</td>\n",
       "      <td>0</td>\n",
       "      <td>0</td>\n",
       "      <td>1</td>\n",
       "    </tr>\n",
       "    <tr>\n",
       "      <th>4</th>\n",
       "      <td>train_4</td>\n",
       "      <td>agriculture clear habitation primary road</td>\n",
       "      <td>0</td>\n",
       "      <td>0</td>\n",
       "      <td>1</td>\n",
       "      <td>1</td>\n",
       "      <td>0</td>\n",
       "      <td>0</td>\n",
       "      <td>1</td>\n",
       "      <td>0</td>\n",
       "      <td>0</td>\n",
       "      <td>0</td>\n",
       "      <td>0</td>\n",
       "      <td>1</td>\n",
       "      <td>0</td>\n",
       "      <td>0</td>\n",
       "      <td>0</td>\n",
       "      <td>0</td>\n",
       "      <td>1</td>\n",
       "    </tr>\n",
       "  </tbody>\n",
       "</table>\n",
       "</div>"
      ],
      "text/plain": [
       "  image_name                                       tags  artisinal_mine  \\\n",
       "0    train_0                               haze primary               0   \n",
       "1    train_1            agriculture clear primary water               0   \n",
       "2    train_2                              clear primary               0   \n",
       "3    train_3                              clear primary               0   \n",
       "4    train_4  agriculture clear habitation primary road               0   \n",
       "\n",
       "   selective_logging  agriculture  road  blooming  slash_burn  habitation  \\\n",
       "0                  0            0     0         0           0           0   \n",
       "1                  0            1     0         0           0           0   \n",
       "2                  0            0     0         0           0           0   \n",
       "3                  0            0     0         0           0           0   \n",
       "4                  0            1     1         0           0           1   \n",
       "\n",
       "   cultivation  partly_cloudy  conventional_mine  haze  clear  cloudy  \\\n",
       "0            0              0                  0     1      0       0   \n",
       "1            0              0                  0     0      1       0   \n",
       "2            0              0                  0     0      1       0   \n",
       "3            0              0                  0     0      1       0   \n",
       "4            0              0                  0     0      1       0   \n",
       "\n",
       "   bare_ground  blow_down  water  primary  \n",
       "0            0          0      0        1  \n",
       "1            0          0      1        1  \n",
       "2            0          0      0        1  \n",
       "3            0          0      0        1  \n",
       "4            0          0      0        1  "
      ]
     },
     "execution_count": 78,
     "metadata": {},
     "output_type": "execute_result"
    }
   ],
   "source": [
    "for tag in unique_labels:\n",
    "    train_df[tag] = train_df['tags'].apply(lambda x: 1 if tag in x.split() else 0)\n",
    "train_df.head()"
   ]
  },
  {
   "cell_type": "code",
   "execution_count": 79,
   "metadata": {},
   "outputs": [
    {
     "data": {
      "text/html": [
       "<div>\n",
       "<style scoped>\n",
       "    .dataframe tbody tr th:only-of-type {\n",
       "        vertical-align: middle;\n",
       "    }\n",
       "\n",
       "    .dataframe tbody tr th {\n",
       "        vertical-align: top;\n",
       "    }\n",
       "\n",
       "    .dataframe thead th {\n",
       "        text-align: right;\n",
       "    }\n",
       "</style>\n",
       "<table border=\"1\" class=\"dataframe\">\n",
       "  <thead>\n",
       "    <tr style=\"text-align: right;\">\n",
       "      <th></th>\n",
       "      <th>image_name</th>\n",
       "      <th>tags</th>\n",
       "      <th>artisinal_mine</th>\n",
       "      <th>selective_logging</th>\n",
       "      <th>agriculture</th>\n",
       "      <th>road</th>\n",
       "      <th>blooming</th>\n",
       "      <th>slash_burn</th>\n",
       "      <th>habitation</th>\n",
       "      <th>cultivation</th>\n",
       "      <th>partly_cloudy</th>\n",
       "      <th>conventional_mine</th>\n",
       "      <th>haze</th>\n",
       "      <th>clear</th>\n",
       "      <th>cloudy</th>\n",
       "      <th>bare_ground</th>\n",
       "      <th>blow_down</th>\n",
       "      <th>water</th>\n",
       "      <th>primary</th>\n",
       "    </tr>\n",
       "  </thead>\n",
       "  <tbody>\n",
       "    <tr>\n",
       "      <th>0</th>\n",
       "      <td>train_0.jpg</td>\n",
       "      <td>haze primary</td>\n",
       "      <td>0</td>\n",
       "      <td>0</td>\n",
       "      <td>0</td>\n",
       "      <td>0</td>\n",
       "      <td>0</td>\n",
       "      <td>0</td>\n",
       "      <td>0</td>\n",
       "      <td>0</td>\n",
       "      <td>0</td>\n",
       "      <td>0</td>\n",
       "      <td>1</td>\n",
       "      <td>0</td>\n",
       "      <td>0</td>\n",
       "      <td>0</td>\n",
       "      <td>0</td>\n",
       "      <td>0</td>\n",
       "      <td>1</td>\n",
       "    </tr>\n",
       "    <tr>\n",
       "      <th>1</th>\n",
       "      <td>train_1.jpg</td>\n",
       "      <td>agriculture clear primary water</td>\n",
       "      <td>0</td>\n",
       "      <td>0</td>\n",
       "      <td>1</td>\n",
       "      <td>0</td>\n",
       "      <td>0</td>\n",
       "      <td>0</td>\n",
       "      <td>0</td>\n",
       "      <td>0</td>\n",
       "      <td>0</td>\n",
       "      <td>0</td>\n",
       "      <td>0</td>\n",
       "      <td>1</td>\n",
       "      <td>0</td>\n",
       "      <td>0</td>\n",
       "      <td>0</td>\n",
       "      <td>1</td>\n",
       "      <td>1</td>\n",
       "    </tr>\n",
       "    <tr>\n",
       "      <th>2</th>\n",
       "      <td>train_2.jpg</td>\n",
       "      <td>clear primary</td>\n",
       "      <td>0</td>\n",
       "      <td>0</td>\n",
       "      <td>0</td>\n",
       "      <td>0</td>\n",
       "      <td>0</td>\n",
       "      <td>0</td>\n",
       "      <td>0</td>\n",
       "      <td>0</td>\n",
       "      <td>0</td>\n",
       "      <td>0</td>\n",
       "      <td>0</td>\n",
       "      <td>1</td>\n",
       "      <td>0</td>\n",
       "      <td>0</td>\n",
       "      <td>0</td>\n",
       "      <td>0</td>\n",
       "      <td>1</td>\n",
       "    </tr>\n",
       "    <tr>\n",
       "      <th>3</th>\n",
       "      <td>train_3.jpg</td>\n",
       "      <td>clear primary</td>\n",
       "      <td>0</td>\n",
       "      <td>0</td>\n",
       "      <td>0</td>\n",
       "      <td>0</td>\n",
       "      <td>0</td>\n",
       "      <td>0</td>\n",
       "      <td>0</td>\n",
       "      <td>0</td>\n",
       "      <td>0</td>\n",
       "      <td>0</td>\n",
       "      <td>0</td>\n",
       "      <td>1</td>\n",
       "      <td>0</td>\n",
       "      <td>0</td>\n",
       "      <td>0</td>\n",
       "      <td>0</td>\n",
       "      <td>1</td>\n",
       "    </tr>\n",
       "    <tr>\n",
       "      <th>4</th>\n",
       "      <td>train_4.jpg</td>\n",
       "      <td>agriculture clear habitation primary road</td>\n",
       "      <td>0</td>\n",
       "      <td>0</td>\n",
       "      <td>1</td>\n",
       "      <td>1</td>\n",
       "      <td>0</td>\n",
       "      <td>0</td>\n",
       "      <td>1</td>\n",
       "      <td>0</td>\n",
       "      <td>0</td>\n",
       "      <td>0</td>\n",
       "      <td>0</td>\n",
       "      <td>1</td>\n",
       "      <td>0</td>\n",
       "      <td>0</td>\n",
       "      <td>0</td>\n",
       "      <td>0</td>\n",
       "      <td>1</td>\n",
       "    </tr>\n",
       "  </tbody>\n",
       "</table>\n",
       "</div>"
      ],
      "text/plain": [
       "    image_name                                       tags  artisinal_mine  \\\n",
       "0  train_0.jpg                               haze primary               0   \n",
       "1  train_1.jpg            agriculture clear primary water               0   \n",
       "2  train_2.jpg                              clear primary               0   \n",
       "3  train_3.jpg                              clear primary               0   \n",
       "4  train_4.jpg  agriculture clear habitation primary road               0   \n",
       "\n",
       "   selective_logging  agriculture  road  blooming  slash_burn  habitation  \\\n",
       "0                  0            0     0         0           0           0   \n",
       "1                  0            1     0         0           0           0   \n",
       "2                  0            0     0         0           0           0   \n",
       "3                  0            0     0         0           0           0   \n",
       "4                  0            1     1         0           0           1   \n",
       "\n",
       "   cultivation  partly_cloudy  conventional_mine  haze  clear  cloudy  \\\n",
       "0            0              0                  0     1      0       0   \n",
       "1            0              0                  0     0      1       0   \n",
       "2            0              0                  0     0      1       0   \n",
       "3            0              0                  0     0      1       0   \n",
       "4            0              0                  0     0      1       0   \n",
       "\n",
       "   bare_ground  blow_down  water  primary  \n",
       "0            0          0      0        1  \n",
       "1            0          0      1        1  \n",
       "2            0          0      0        1  \n",
       "3            0          0      0        1  \n",
       "4            0          0      0        1  "
      ]
     },
     "execution_count": 79,
     "metadata": {},
     "output_type": "execute_result"
    }
   ],
   "source": [
    "train_df['image_name'] = train_df['image_name'].apply(lambda x: '{}.jpg'.format(x))\n",
    "train_df.head()"
   ]
  },
  {
   "cell_type": "code",
   "execution_count": 80,
   "metadata": {},
   "outputs": [
    {
     "data": {
      "text/plain": [
       "['artisinal_mine',\n",
       " 'selective_logging',\n",
       " 'agriculture',\n",
       " 'road',\n",
       " 'blooming',\n",
       " 'slash_burn',\n",
       " 'habitation',\n",
       " 'cultivation',\n",
       " 'partly_cloudy',\n",
       " 'conventional_mine',\n",
       " 'haze',\n",
       " 'clear',\n",
       " 'cloudy',\n",
       " 'bare_ground',\n",
       " 'blow_down',\n",
       " 'water',\n",
       " 'primary']"
      ]
     },
     "execution_count": 80,
     "metadata": {},
     "output_type": "execute_result"
    }
   ],
   "source": [
    "labels = list(train_df.columns[2:])\n",
    "labels"
   ]
  },
  {
   "cell_type": "code",
   "execution_count": 81,
   "metadata": {},
   "outputs": [],
   "source": [
    "from tensorflow import keras\n",
    "from keras.preprocessing.image import ImageDataGenerator"
   ]
  },
  {
   "cell_type": "code",
   "execution_count": 82,
   "metadata": {},
   "outputs": [],
   "source": [
    "image_gen = ImageDataGenerator(rescale = 1/255, validation_split = 0.20)"
   ]
  },
  {
   "cell_type": "code",
   "execution_count": 83,
   "metadata": {},
   "outputs": [],
   "source": [
    "from tensorflow.keras.models import Sequential\n",
    "from tensorflow.keras.layers import Dense, Flatten, BatchNormalization, Conv2D\n",
    "from tensorflow.keras.optimizers import Adam\n",
    "from tensorflow.keras.callbacks import EarlyStopping, ModelCheckpoint"
   ]
  },
  {
   "cell_type": "code",
   "execution_count": 84,
   "metadata": {},
   "outputs": [],
   "source": [
    "def fbeta(ytrue, ypred, beta = 2, epsilon = 1e-4):\n",
    "    beta_sqd = beta**2\n",
    "    ytrue = tf.cast(ytrue, tf.float32)\n",
    "    ypred = tf.cast(tf.greater(tf.cast(ypred, tf.float32), tf.constant(0.5)), tf.float32)\n",
    "    \n",
    "    true_pos = tf.reduce_sum(ytrue * ypred, axis = 1)\n",
    "    false_pos = tf.reduce_sum(ypred, axis = 1) - true_pos\n",
    "    false_neg = tf.reduce_sum(ytrue, axis = 1) - true_pos\n",
    "    \n",
    "    precision = true_pos / (true_pos + false_pos + epsilon)\n",
    "    recall = true_pos / (true_pos + false_neg + epsilon)\n",
    "    \n",
    "    fb = (1 + beta_sqd) * precision * recall / (beta_sqd * precision + recall + epsilon)\n",
    "    return fb"
   ]
  },
  {
   "cell_type": "code",
   "execution_count": 85,
   "metadata": {},
   "outputs": [],
   "source": [
    "def multi_label_acc(ytrue, ypred, epsilon = 1e-4):\n",
    "    ytrue = tf.cast(ytrue, tf.float32)\n",
    "    ypred = tf.cast(tf.greater(tf.cast(ypred, tf.float32), tf.constant(0.5)), tf.float32)\n",
    "    \n",
    "    true_pos = tf.reduce_sum(ytrue * ypred, axis = 1)\n",
    "    false_pos = tf.reduce_sum(ypred, axis = 1) - true_pos\n",
    "    false_neg = tf.reduce_sum(ytrue, axis = 1) - true_pos\n",
    "    \n",
    "    ytrue = tf.cast(ytrue, tf.bool)\n",
    "    ypred = tf.cast(ypred, tf.bool)\n",
    "    \n",
    "    true_neg = tf.reduce_sum(tf.cast(tf.logical_not(ytrue), tf.float32) * tf.cast(tf.logical_not(ypred), tf.float32), \\\n",
    "                             axis = 1)\n",
    "    \n",
    "    mla = (true_pos + true_neg) / (true_pos + true_neg + false_pos + false_neg + epsilon)\n",
    "    return mla"
   ]
  },
  {
   "cell_type": "code",
   "execution_count": 86,
   "metadata": {},
   "outputs": [],
   "source": [
    "def build_model():\n",
    "    model = Sequential()\n",
    "    model.add(Conv2D(filters = 128, kernel_size = 3, input_shape = (128, 128, 3)))\n",
    "    model.add(Flatten())\n",
    "    model.add(Dense(17, activation = 'sigmoid'))\n",
    "    opt = Adam(lr=1e-2)\n",
    "    model.compile(loss = 'binary_crossentropy', optimizer = opt, metrics = [multi_label_acc, fbeta])\n",
    "    \n",
    "    return model"
   ]
  },
  {
   "cell_type": "code",
   "execution_count": 87,
   "metadata": {},
   "outputs": [],
   "source": [
    "save_best_checkpoint = ModelCheckpoint(filepath = 'best_model.hdf5', monitor = 'val_fbeta', \\\n",
    "                                      mode = 'max', save_best_only = True, save_weights_only = True)"
   ]
  },
  {
   "cell_type": "code",
   "execution_count": 88,
   "metadata": {},
   "outputs": [
    {
     "name": "stdout",
     "output_type": "stream",
     "text": [
      "Found 32384 validated image filenames.\n",
      "Found 8095 validated image filenames.\n"
     ]
    }
   ],
   "source": [
    "train_gen = image_gen.flow_from_dataframe(dataframe = train_df, \\\n",
    "                                         directory = '../input/planets-dataset/planet/planet/train-jpg', x_col = 'image_name', y_col = labels, \\\n",
    "                                         target_size = (128,128), class_mode = 'raw', seed = 2, batch_size = 128, subset = 'training')\n",
    "\n",
    "val_gen = image_gen.flow_from_dataframe(dataframe = train_df, \\\n",
    "                                         directory = '../input/planets-dataset/planet/planet/train-jpg', x_col = 'image_name', y_col = labels, \\\n",
    "                                         target_size = (128,128), class_mode = 'raw', seed = 2, batch_size = 128, subset = 'validation')"
   ]
  },
  {
   "cell_type": "code",
   "execution_count": 89,
   "metadata": {},
   "outputs": [],
   "source": [
    "step_train_size = int(np.ceil(train_gen.samples / train_gen.batch_size))\n",
    "\n",
    "step_val_size = int(np.ceil(val_gen.samples / val_gen.batch_size))"
   ]
  },
  {
   "cell_type": "code",
   "execution_count": 90,
   "metadata": {},
   "outputs": [
    {
     "name": "stdout",
     "output_type": "stream",
     "text": [
      "Epoch 1/20\n",
      "253/253 [==============================] - 135s 534ms/step - loss: 51.7560 - multi_label_acc: 0.8525 - fbeta: 0.5913 - val_loss: 5.4580 - val_multi_label_acc: 0.9067 - val_fbeta: 0.6712\n",
      "Epoch 2/20\n",
      "253/253 [==============================] - 114s 451ms/step - loss: 7.2452 - multi_label_acc: 0.8646 - fbeta: 0.6248 - val_loss: 3.7848 - val_multi_label_acc: 0.8284 - val_fbeta: 0.6529\n",
      "Epoch 3/20\n",
      "253/253 [==============================] - 112s 442ms/step - loss: 72.2246 - multi_label_acc: 0.8548 - fbeta: 0.5999 - val_loss: 70.5092 - val_multi_label_acc: 0.8698 - val_fbeta: 0.4742\n",
      "Epoch 4/20\n",
      "253/253 [==============================] - 112s 444ms/step - loss: 76.2752 - multi_label_acc: 0.8644 - fbeta: 0.6210 - val_loss: 21.3676 - val_multi_label_acc: 0.8610 - val_fbeta: 0.6856\n",
      "Epoch 5/20\n",
      "253/253 [==============================] - 113s 445ms/step - loss: 106.7383 - multi_label_acc: 0.8643 - fbeta: 0.6223 - val_loss: 44.3640 - val_multi_label_acc: 0.8781 - val_fbeta: 0.6993\n",
      "Epoch 6/20\n",
      "253/253 [==============================] - 112s 441ms/step - loss: 60.3030 - multi_label_acc: 0.8677 - fbeta: 0.6274 - val_loss: 13.7756 - val_multi_label_acc: 0.8359 - val_fbeta: 0.6576\n",
      "Epoch 7/20\n",
      "253/253 [==============================] - 112s 442ms/step - loss: 29.7893 - multi_label_acc: 0.8683 - fbeta: 0.6331 - val_loss: 10.0811 - val_multi_label_acc: 0.8251 - val_fbeta: 0.7098\n",
      "Epoch 8/20\n",
      "253/253 [==============================] - 111s 440ms/step - loss: 20.0348 - multi_label_acc: 0.8685 - fbeta: 0.6323 - val_loss: 12.9739 - val_multi_label_acc: 0.7725 - val_fbeta: 0.5087\n",
      "Epoch 9/20\n",
      "253/253 [==============================] - 111s 437ms/step - loss: 12.0730 - multi_label_acc: 0.8686 - fbeta: 0.6343 - val_loss: 8.0807 - val_multi_label_acc: 0.8870 - val_fbeta: 0.5795\n",
      "Epoch 10/20\n",
      "253/253 [==============================] - 111s 439ms/step - loss: 30.1976 - multi_label_acc: 0.8654 - fbeta: 0.6206 - val_loss: 35.5512 - val_multi_label_acc: 0.8621 - val_fbeta: 0.6021\n",
      "Epoch 11/20\n",
      "253/253 [==============================] - 112s 441ms/step - loss: 127.8381 - multi_label_acc: 0.8636 - fbeta: 0.6194 - val_loss: 71.0992 - val_multi_label_acc: 0.8647 - val_fbeta: 0.5558\n",
      "Epoch 12/20\n",
      "253/253 [==============================] - 112s 444ms/step - loss: 143.6521 - multi_label_acc: 0.8644 - fbeta: 0.6227 - val_loss: 111.1184 - val_multi_label_acc: 0.8470 - val_fbeta: 0.5674\n",
      "Epoch 13/20\n",
      "253/253 [==============================] - 111s 439ms/step - loss: 61.4730 - multi_label_acc: 0.8656 - fbeta: 0.6246 - val_loss: 192.7722 - val_multi_label_acc: 0.8571 - val_fbeta: 0.6941\n",
      "Epoch 14/20\n",
      "253/253 [==============================] - 111s 437ms/step - loss: 54.8316 - multi_label_acc: 0.8670 - fbeta: 0.6274 - val_loss: 137.9230 - val_multi_label_acc: 0.8743 - val_fbeta: 0.6051\n",
      "Epoch 15/20\n",
      "253/253 [==============================] - 111s 438ms/step - loss: 55.2273 - multi_label_acc: 0.8689 - fbeta: 0.6344 - val_loss: 57.7788 - val_multi_label_acc: 0.8515 - val_fbeta: 0.6908\n",
      "Epoch 16/20\n",
      "253/253 [==============================] - 111s 440ms/step - loss: 32.5693 - multi_label_acc: 0.8711 - fbeta: 0.6359 - val_loss: 11.8609 - val_multi_label_acc: 0.8779 - val_fbeta: 0.6809\n",
      "Epoch 17/20\n",
      "253/253 [==============================] - 111s 439ms/step - loss: 9.2185 - multi_label_acc: 0.8743 - fbeta: 0.6457 - val_loss: 15.2365 - val_multi_label_acc: 0.8331 - val_fbeta: 0.6891\n",
      "Epoch 18/20\n",
      "253/253 [==============================] - 112s 443ms/step - loss: 4.3980 - multi_label_acc: 0.8826 - fbeta: 0.6648 - val_loss: 2.3715 - val_multi_label_acc: 0.8973 - val_fbeta: 0.7070\n",
      "Epoch 19/20\n",
      "253/253 [==============================] - 112s 443ms/step - loss: 26.4523 - multi_label_acc: 0.8631 - fbeta: 0.6175 - val_loss: 15.0829 - val_multi_label_acc: 0.8394 - val_fbeta: 0.6585\n",
      "Epoch 20/20\n",
      "253/253 [==============================] - 111s 439ms/step - loss: 288.2231 - multi_label_acc: 0.8585 - fbeta: 0.6058 - val_loss: 99.5830 - val_multi_label_acc: 0.8793 - val_fbeta: 0.6235\n"
     ]
    },
    {
     "data": {
      "text/plain": [
       "<tensorflow.python.keras.callbacks.History at 0x7f58a77384d0>"
      ]
     },
     "execution_count": 90,
     "metadata": {},
     "output_type": "execute_result"
    }
   ],
   "source": [
    "model1 = build_model()\n",
    "\n",
    "model1.fit(x = train_gen, steps_per_epoch = step_train_size, validation_data = val_gen, validation_steps = step_val_size,\n",
    "          epochs = 20, callbacks = [save_best_checkpoint])"
   ]
  },
  {
   "cell_type": "code",
   "execution_count": 91,
   "metadata": {},
   "outputs": [],
   "source": [
    "model2 = build_model()\n",
    "\n",
    "model2.load_weights('best_model.hdf5')"
   ]
  },
  {
   "cell_type": "code",
   "execution_count": 92,
   "metadata": {},
   "outputs": [
    {
     "data": {
      "text/plain": [
       "61191"
      ]
     },
     "execution_count": 92,
     "metadata": {},
     "output_type": "execute_result"
    }
   ],
   "source": [
    "sample_submission_df = sample_submission.copy()\n",
    "sample_submission_df['image_name'] = sample_submission_df['image_name'].apply(lambda x: '{}.jpg'.format(x))\n",
    "len(sample_submission_df)"
   ]
  },
  {
   "cell_type": "code",
   "execution_count": 93,
   "metadata": {},
   "outputs": [
    {
     "data": {
      "text/html": [
       "<div>\n",
       "<style scoped>\n",
       "    .dataframe tbody tr th:only-of-type {\n",
       "        vertical-align: middle;\n",
       "    }\n",
       "\n",
       "    .dataframe tbody tr th {\n",
       "        vertical-align: top;\n",
       "    }\n",
       "\n",
       "    .dataframe thead th {\n",
       "        text-align: right;\n",
       "    }\n",
       "</style>\n",
       "<table border=\"1\" class=\"dataframe\">\n",
       "  <thead>\n",
       "    <tr style=\"text-align: right;\">\n",
       "      <th></th>\n",
       "      <th>index</th>\n",
       "      <th>image_name</th>\n",
       "    </tr>\n",
       "  </thead>\n",
       "  <tbody>\n",
       "    <tr>\n",
       "      <th>0</th>\n",
       "      <td>0</td>\n",
       "      <td>test_0.jpg</td>\n",
       "    </tr>\n",
       "    <tr>\n",
       "      <th>1</th>\n",
       "      <td>1</td>\n",
       "      <td>test_1.jpg</td>\n",
       "    </tr>\n",
       "  </tbody>\n",
       "</table>\n",
       "</div>"
      ],
      "text/plain": [
       "   index  image_name\n",
       "0      0  test_0.jpg\n",
       "1      1  test_1.jpg"
      ]
     },
     "execution_count": 93,
     "metadata": {},
     "output_type": "execute_result"
    }
   ],
   "source": [
    "test1_df = sample_submission_df.iloc[:40669]['image_name'].reset_index()\n",
    "test1_df.drop('index', axis = 1)\n",
    "test1_df.head(2)"
   ]
  },
  {
   "cell_type": "code",
   "execution_count": 94,
   "metadata": {},
   "outputs": [
    {
     "name": "stdout",
     "output_type": "stream",
     "text": [
      "Found 40669 validated image filenames.\n"
     ]
    }
   ],
   "source": [
    "test1_gen = image_gen.flow_from_dataframe(dataframe = test1_df, \\\n",
    "                                         directory = '../input/planets-dataset/planet/planet/test-jpg', x_col = 'image_name', y_col = None, \\\n",
    "                                         target_size = (128,128), class_mode = None, shuffle = False, batch_size = 128)\n"
   ]
  },
  {
   "cell_type": "code",
   "execution_count": 95,
   "metadata": {},
   "outputs": [],
   "source": [
    "step_test1_size = int(np.ceil(test1_gen.samples / test1_gen.batch_size))"
   ]
  },
  {
   "cell_type": "code",
   "execution_count": 96,
   "metadata": {},
   "outputs": [
    {
     "name": "stdout",
     "output_type": "stream",
     "text": [
      "318/318 [==============================] - 147s 461ms/step\n"
     ]
    }
   ],
   "source": [
    "test1_gen.reset()\n",
    "pred1 = model2.predict(test1_gen, steps = step_test1_size, verbose = 1)"
   ]
  },
  {
   "cell_type": "code",
   "execution_count": 97,
   "metadata": {},
   "outputs": [],
   "source": [
    "test1_file_names = test1_gen.filenames\n",
    "\n",
    "pred1_tags = pd.DataFrame(pred1)\n",
    "pred1_tags = pred1_tags.apply(lambda x: ' '.join(np.array(unique_labels)[x > 0.5]), axis = 1)"
   ]
  },
  {
   "cell_type": "code",
   "execution_count": 98,
   "metadata": {},
   "outputs": [
    {
     "data": {
      "text/html": [
       "<div>\n",
       "<style scoped>\n",
       "    .dataframe tbody tr th:only-of-type {\n",
       "        vertical-align: middle;\n",
       "    }\n",
       "\n",
       "    .dataframe tbody tr th {\n",
       "        vertical-align: top;\n",
       "    }\n",
       "\n",
       "    .dataframe thead th {\n",
       "        text-align: right;\n",
       "    }\n",
       "</style>\n",
       "<table border=\"1\" class=\"dataframe\">\n",
       "  <thead>\n",
       "    <tr style=\"text-align: right;\">\n",
       "      <th></th>\n",
       "      <th>image_name</th>\n",
       "      <th>tags</th>\n",
       "    </tr>\n",
       "  </thead>\n",
       "  <tbody>\n",
       "    <tr>\n",
       "      <th>0</th>\n",
       "      <td>test_0.jpg</td>\n",
       "      <td>partly_cloudy clear primary</td>\n",
       "    </tr>\n",
       "    <tr>\n",
       "      <th>1</th>\n",
       "      <td>test_1.jpg</td>\n",
       "      <td>slash_burn clear blow_down primary</td>\n",
       "    </tr>\n",
       "  </tbody>\n",
       "</table>\n",
       "</div>"
      ],
      "text/plain": [
       "   image_name                                tags\n",
       "0  test_0.jpg         partly_cloudy clear primary\n",
       "1  test_1.jpg  slash_burn clear blow_down primary"
      ]
     },
     "execution_count": 98,
     "metadata": {},
     "output_type": "execute_result"
    }
   ],
   "source": [
    "result1 = pd.DataFrame({'image_name': test1_file_names, 'tags': pred1_tags})\n",
    "result1.head(2)"
   ]
  },
  {
   "cell_type": "code",
   "execution_count": 99,
   "metadata": {},
   "outputs": [
    {
     "data": {
      "text/html": [
       "<div>\n",
       "<style scoped>\n",
       "    .dataframe tbody tr th:only-of-type {\n",
       "        vertical-align: middle;\n",
       "    }\n",
       "\n",
       "    .dataframe tbody tr th {\n",
       "        vertical-align: top;\n",
       "    }\n",
       "\n",
       "    .dataframe thead th {\n",
       "        text-align: right;\n",
       "    }\n",
       "</style>\n",
       "<table border=\"1\" class=\"dataframe\">\n",
       "  <thead>\n",
       "    <tr style=\"text-align: right;\">\n",
       "      <th></th>\n",
       "      <th>index</th>\n",
       "      <th>image_name</th>\n",
       "    </tr>\n",
       "  </thead>\n",
       "  <tbody>\n",
       "    <tr>\n",
       "      <th>0</th>\n",
       "      <td>40669</td>\n",
       "      <td>file_0.jpg</td>\n",
       "    </tr>\n",
       "    <tr>\n",
       "      <th>1</th>\n",
       "      <td>40670</td>\n",
       "      <td>file_1.jpg</td>\n",
       "    </tr>\n",
       "  </tbody>\n",
       "</table>\n",
       "</div>"
      ],
      "text/plain": [
       "   index  image_name\n",
       "0  40669  file_0.jpg\n",
       "1  40670  file_1.jpg"
      ]
     },
     "execution_count": 99,
     "metadata": {},
     "output_type": "execute_result"
    }
   ],
   "source": [
    "test2_df = sample_submission_df.iloc[40669:]['image_name'].reset_index()\n",
    "test2_df.drop('index', axis = 1)\n",
    "test2_df.head(2)"
   ]
  },
  {
   "cell_type": "code",
   "execution_count": 100,
   "metadata": {},
   "outputs": [
    {
     "name": "stdout",
     "output_type": "stream",
     "text": [
      "Found 20522 validated image filenames.\n",
      "161/161 [==============================] - 68s 424ms/step\n"
     ]
    },
    {
     "data": {
      "text/html": [
       "<div>\n",
       "<style scoped>\n",
       "    .dataframe tbody tr th:only-of-type {\n",
       "        vertical-align: middle;\n",
       "    }\n",
       "\n",
       "    .dataframe tbody tr th {\n",
       "        vertical-align: top;\n",
       "    }\n",
       "\n",
       "    .dataframe thead th {\n",
       "        text-align: right;\n",
       "    }\n",
       "</style>\n",
       "<table border=\"1\" class=\"dataframe\">\n",
       "  <thead>\n",
       "    <tr style=\"text-align: right;\">\n",
       "      <th></th>\n",
       "      <th>image_name</th>\n",
       "      <th>tags</th>\n",
       "    </tr>\n",
       "  </thead>\n",
       "  <tbody>\n",
       "    <tr>\n",
       "      <th>0</th>\n",
       "      <td>file_0.jpg</td>\n",
       "      <td>partly_cloudy clear blow_down primary</td>\n",
       "    </tr>\n",
       "    <tr>\n",
       "      <th>1</th>\n",
       "      <td>file_1.jpg</td>\n",
       "      <td>artisinal_mine agriculture road habitation par...</td>\n",
       "    </tr>\n",
       "  </tbody>\n",
       "</table>\n",
       "</div>"
      ],
      "text/plain": [
       "   image_name                                               tags\n",
       "0  file_0.jpg              partly_cloudy clear blow_down primary\n",
       "1  file_1.jpg  artisinal_mine agriculture road habitation par..."
      ]
     },
     "execution_count": 100,
     "metadata": {},
     "output_type": "execute_result"
    }
   ],
   "source": [
    "test2_gen = image_gen.flow_from_dataframe(dataframe = test2_df, \\\n",
    "                                         directory = '../input/planets-dataset/test-jpg-additional/test-jpg-additional', x_col = 'image_name', y_col = None, \\\n",
    "                                         target_size = (128,128), class_mode = None, shuffle = False, batch_size = 128)\n",
    "\n",
    "\n",
    "step_test2_size = int(np.ceil(test2_gen.samples / test2_gen.batch_size))\n",
    "\n",
    "test2_gen.reset()\n",
    "pred2 = model2.predict(test2_gen, steps = step_test2_size, verbose = 1)\n",
    "\n",
    "test2_file_names = test2_gen.filenames\n",
    "\n",
    "pred2_tags = pd.DataFrame(pred2)\n",
    "pred2_tags = pred2_tags.apply(lambda x: ' '.join(np.array(unique_labels)[x > 0.5]), axis = 1)\n",
    "\n",
    "result2 = pd.DataFrame({'image_name': test2_file_names, 'tags': pred2_tags})\n",
    "result2.head(2)"
   ]
  },
  {
   "cell_type": "code",
   "execution_count": 101,
   "metadata": {},
   "outputs": [
    {
     "data": {
      "text/html": [
       "<div>\n",
       "<style scoped>\n",
       "    .dataframe tbody tr th:only-of-type {\n",
       "        vertical-align: middle;\n",
       "    }\n",
       "\n",
       "    .dataframe tbody tr th {\n",
       "        vertical-align: top;\n",
       "    }\n",
       "\n",
       "    .dataframe thead th {\n",
       "        text-align: right;\n",
       "    }\n",
       "</style>\n",
       "<table border=\"1\" class=\"dataframe\">\n",
       "  <thead>\n",
       "    <tr style=\"text-align: right;\">\n",
       "      <th></th>\n",
       "      <th>image_name</th>\n",
       "      <th>tags</th>\n",
       "    </tr>\n",
       "  </thead>\n",
       "  <tbody>\n",
       "    <tr>\n",
       "      <th>0</th>\n",
       "      <td>test_0.jpg</td>\n",
       "      <td>partly_cloudy clear primary</td>\n",
       "    </tr>\n",
       "    <tr>\n",
       "      <th>1</th>\n",
       "      <td>test_1.jpg</td>\n",
       "      <td>slash_burn clear blow_down primary</td>\n",
       "    </tr>\n",
       "  </tbody>\n",
       "</table>\n",
       "</div>"
      ],
      "text/plain": [
       "   image_name                                tags\n",
       "0  test_0.jpg         partly_cloudy clear primary\n",
       "1  test_1.jpg  slash_burn clear blow_down primary"
      ]
     },
     "execution_count": 101,
     "metadata": {},
     "output_type": "execute_result"
    }
   ],
   "source": [
    "final_result = pd.concat([result1, result2])\n",
    "\n",
    "final_result = final_result.reset_index().drop('index', axis = 1)\n",
    "\n",
    "final_result.head(2)"
   ]
  },
  {
   "cell_type": "code",
   "execution_count": 102,
   "metadata": {},
   "outputs": [],
   "source": []
  },
  {
   "cell_type": "code",
   "execution_count": 103,
   "metadata": {},
   "outputs": [],
   "source": []
  },
  {
   "cell_type": "code",
   "execution_count": 104,
   "metadata": {},
   "outputs": [],
   "source": []
  },
  {
   "cell_type": "code",
   "execution_count": null,
   "metadata": {},
   "outputs": [],
   "source": []
  }
 ],
 "metadata": {
  "kernelspec": {
   "display_name": "Python 3",
   "language": "python",
   "name": "python3"
  },
  "language_info": {
   "codemirror_mode": {
    "name": "ipython",
    "version": 3
   },
   "file_extension": ".py",
   "mimetype": "text/x-python",
   "name": "python",
   "nbconvert_exporter": "python",
   "pygments_lexer": "ipython3",
   "version": "3.8.3"
  }
 },
 "nbformat": 4,
 "nbformat_minor": 4
}
